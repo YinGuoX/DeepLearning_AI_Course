{
  "nbformat": 4,
  "nbformat_minor": 0,
  "metadata": {
    "colab": {
      "name": "Week1_Lesson1.ipynb",
      "provenance": [],
      "collapsed_sections": [],
      "authorship_tag": "ABX9TyPfkVt6xt/ONiCCQKNflAaI",
      "include_colab_link": true
    },
    "kernelspec": {
      "name": "python3",
      "display_name": "Python 3"
    }
  },
  "cells": [
    {
      "cell_type": "markdown",
      "metadata": {
        "id": "view-in-github",
        "colab_type": "text"
      },
      "source": [
        "<a href=\"https://colab.research.google.com/github/YinGuoX/DeepLearning_AI_Course/blob/master/Week1_Lesson1.ipynb\" target=\"_parent\"><img src=\"https://colab.research.google.com/assets/colab-badge.svg\" alt=\"Open In Colab\"/></a>"
      ]
    },
    {
      "cell_type": "markdown",
      "metadata": {
        "id": "rZu4fL50gwVK"
      },
      "source": [
        "# 使用Tokenizer处理文本数据\n",
        "\n",
        "生成对应的词字典"
      ]
    },
    {
      "cell_type": "code",
      "metadata": {
        "id": "WatcSlGthkZI",
        "outputId": "733b158f-684c-4ab6-b0fa-82b0f34d4686",
        "colab": {
          "base_uri": "https://localhost:8080/",
          "height": 34
        }
      },
      "source": [
        "from tensorflow.keras.preprocessing.text import Tokenizer\n",
        "\n",
        "sentences = [\n",
        "             'i love my dog',\n",
        "             'I, love my cat',\n",
        "             'You love my dog!'\n",
        "]\n",
        "\n",
        "# num_words是处理的最大单词数量\n",
        "tokenizer = Tokenizer(num_words = 100)\n",
        "# 实现分词：生成token词典\n",
        "tokenizer.fit_on_texts(sentences)\n",
        "\n",
        "# 词与索引的对应关系\n",
        "word_index = tokenizer.word_index\n",
        "\n",
        "print(word_index)"
      ],
      "execution_count": 2,
      "outputs": [
        {
          "output_type": "stream",
          "text": [
            "{'love': 1, 'my': 2, 'i': 3, 'dog': 4, 'cat': 5, 'you': 6}\n"
          ],
          "name": "stdout"
        }
      ]
    },
    {
      "cell_type": "code",
      "metadata": {
        "id": "BBsDAKqJiSDE"
      },
      "source": [
        ""
      ],
      "execution_count": null,
      "outputs": []
    }
  ]
}