{
 "cells": [
  {
   "cell_type": "markdown",
   "metadata": {},
   "source": [
    "# 练习3：卷积\n",
    "主要参考于[DeepLearning.ai课程](https://github.com/lmoroney/dlaicourse/blob/master/Exercises/Exercise%203%20-%20Convolutions/Exercise%203%20-%20Question.ipynb)"
   ]
  },
  {
   "cell_type": "markdown",
   "metadata": {},
   "source": [
    "## 1. Question\n",
    "\n",
    "在视频中，您了解了如何使用卷积来改进Fashion MNIST。 对于您的练习，请查看是否可以仅使用单个卷积层和单个MaxPooling 2D将MNIST的准确性提高到99.8％或更高。 一旦准确性超过此数量，您应该停止训练。 它应该在少于20个纪元内发生，因此可以硬编码要训练的纪元数是可以的，但是一旦达到上述指标，您的训练就必须结束。 如果不是，那么您将需要重新设计图层。\n",
    "\n",
    "\n",
    "当命中率达到99.8%时，应该打印出“精确度达到99.8%”的字符串"
   ]
  },
  {
   "cell_type": "markdown",
   "metadata": {},
   "source": [
    "## 2. Answer"
   ]
  },
  {
   "cell_type": "code",
   "execution_count": 4,
   "metadata": {},
   "outputs": [
    {
     "name": "stdout",
     "output_type": "stream",
     "text": [
      "Train on 60000 samples\n",
      "Epoch 1/10\n",
      "60000/60000 [==============================] - 35s 585us/sample - loss: 0.1451 - accuracy: 0.9573\n",
      "Epoch 2/10\n",
      "60000/60000 [==============================] - 36s 606us/sample - loss: 0.0524 - accuracy: 0.9839\n",
      "Epoch 3/10\n",
      "60000/60000 [==============================] - 39s 645us/sample - loss: 0.0323 - accuracy: 0.9895\n",
      "Epoch 4/10\n",
      "60000/60000 [==============================] - 39s 654us/sample - loss: 0.0231 - accuracy: 0.9926\n",
      "Epoch 5/10\n",
      "60000/60000 [==============================] - 39s 651us/sample - loss: 0.0152 - accuracy: 0.9952\n",
      "Epoch 6/10\n",
      "60000/60000 [==============================] - 39s 647us/sample - loss: 0.0116 - accuracy: 0.9961\n",
      "Epoch 7/10\n",
      "60000/60000 [==============================] - 39s 651us/sample - loss: 0.0080 - accuracy: 0.9972\n",
      "Epoch 8/10\n",
      "60000/60000 [==============================] - 40s 659us/sample - loss: 0.0067 - accuracy: 0.9977\n",
      "Epoch 9/10\n",
      "59968/60000 [============================>.] - ETA: 0s - loss: 0.0058 - accuracy: 0.9980已经训练到达精度99.8%\n",
      "60000/60000 [==============================] - 39s 650us/sample - loss: 0.0058 - accuracy: 0.9980\n"
     ]
    },
    {
     "data": {
      "text/plain": [
       "<tensorflow.python.keras.callbacks.History at 0x1bb47668>"
      ]
     },
     "execution_count": 4,
     "metadata": {},
     "output_type": "execute_result"
    }
   ],
   "source": [
    "import tensorflow as tf\n",
    "\n",
    "class myCallback(tf.keras.callbacks.Callback):\n",
    "    def on_epoch_end(self,epoch,logs={}):\n",
    "        if(logs.get('accuracy')>0.998):\n",
    "            print(\"已经训练到达精度99.8%\")\n",
    "            self.model.stop_training = True\n",
    "\n",
    "callbacks = myCallback()\n",
    "mnist = tf.keras.datasets.mnist\n",
    "# 获取数据集\n",
    "(training_images,training_labels),(test_images,test_labels) = mnist.load_data()\n",
    "\n",
    "# 数据预处理\n",
    "training_images = training_images.reshape(60000,28,28,1)\n",
    "training_images = training_images / 255.0 \n",
    "test_images = test_images.reshape(10000,28,28,1)\n",
    "test_images = test_images / 255.0\n",
    "\n",
    "# 构建模型\n",
    "model = tf.keras.models.Sequential([\n",
    "    tf.keras.layers.Conv2D(32,(3,3),activation='relu',input_shape=(28,28,1)),\n",
    "    tf.keras.layers.MaxPooling2D(2,2),\n",
    "    tf.keras.layers.Flatten(),\n",
    "    tf.keras.layers.Dense(128,activation='relu'),\n",
    "    tf.keras.layers.Dense(10,activation='softmax')\n",
    "])\n",
    "\n",
    "# 模型编译\n",
    "model.compile(optimizer='adam',\n",
    "             loss = 'sparse_categorical_crossentropy',\n",
    "             metrics = ['accuracy'])\n",
    "\n",
    "# 训练模型\n",
    "model.fit(training_images,training_labels,epochs=10,callbacks=[callbacks])"
   ]
  },
  {
   "cell_type": "code",
   "execution_count": null,
   "metadata": {},
   "outputs": [],
   "source": []
  }
 ],
 "metadata": {
  "kernelspec": {
   "display_name": "Python 3",
   "language": "python",
   "name": "python3"
  },
  "language_info": {
   "codemirror_mode": {
    "name": "ipython",
    "version": 3
   },
   "file_extension": ".py",
   "mimetype": "text/x-python",
   "name": "python",
   "nbconvert_exporter": "python",
   "pygments_lexer": "ipython3",
   "version": "3.6.10"
  }
 },
 "nbformat": 4,
 "nbformat_minor": 4
}
