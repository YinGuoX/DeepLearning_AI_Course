{
 "cells": [
  {
   "cell_type": "markdown",
   "metadata": {},
   "source": [
    "# 练习4：处理复杂图像\n",
    "主要参考于[DeepLearning.ai课程](https://github.com/lmoroney/dlaicourse/blob/master/Exercises/Exercise%204%20-%20Handling%20Complex%20Images/Exercise%204-Question.ipynb)"
   ]
  },
  {
   "cell_type": "markdown",
   "metadata": {},
   "source": [
    "## 1. Question\n",
    "以下是带有高兴或悲伤数据集的链接的代码，该数据集包含80张图像，40张快乐和40张悲伤的图像。 创建一个在这些图像上训练达到100％准确度的卷积神经网络，当达到> .999的训练准确度时将取消训练\n",
    "\n",
    "**提示：**\n",
    "* 最好使用3个卷积层"
   ]
  },
  {
   "cell_type": "markdown",
   "metadata": {},
   "source": [
    "## 2. Answer"
   ]
  },
  {
   "cell_type": "code",
   "execution_count": 1,
   "metadata": {},
   "outputs": [],
   "source": [
    "import tensorflow as tf\n",
    "import os\n",
    "import zipfile\n",
    "\n",
    "DESIRED_ACCURACY = 0.999\n",
    "\n",
    "# 解压数据\n",
    "zip_ref = zipfile.ZipFile('./tmp/happy-or-sad.zip','r')\n",
    "zip_ref.extractall('./tmp/h-or-s')\n",
    "zip_ref.close()\n",
    "\n",
    "class myCallback(tf.keras.callbacks.Callback):\n",
    "    def on_epoch_end(self,epoch,logs={}):\n",
    "        if(logs.get('accuracy')>DESIRED_ACCURACY):\n",
    "            print(\"训练精度已经达到99.9%\")\n",
    "            self.model.stop_training = True\n",
    "            \n",
    "            \n",
    "callbacks = myCallback()"
   ]
  },
  {
   "cell_type": "code",
   "execution_count": 5,
   "metadata": {},
   "outputs": [],
   "source": [
    "# 构建模型\n",
    "model = tf.keras.models.Sequential([\n",
    "    tf.keras.layers.Conv2D(16,(3,3),activation = 'relu',input_shape=(150,150,3)),\n",
    "    tf.keras.layers.MaxPooling2D(2,2),\n",
    "    tf.keras.layers.Conv2D(32,(3,3),activation='relu'),\n",
    "    tf.keras.layers.MaxPooling2D(2,2),\n",
    "    tf.keras.layers.Conv2D(32,(3,3),activation='relu'),\n",
    "    tf.keras.layers.MaxPooling2D(2,2),\n",
    "    tf.keras.layers.Flatten(),\n",
    "    tf.keras.layers.Dense(512,activation='relu'),\n",
    "    tf.keras.layers.Dense(1,activation='sigmoid')\n",
    "    \n",
    "])\n",
    "\n",
    "# 编译模型\n",
    "from tensorflow.keras.optimizers import RMSprop\n",
    "\n",
    "model.compile(loss='binary_crossentropy',\n",
    "             optimizer = RMSprop(lr=0.001),\n",
    "             metrics = ['accuracy']\n",
    "             )\n"
   ]
  },
  {
   "cell_type": "code",
   "execution_count": 7,
   "metadata": {},
   "outputs": [
    {
     "name": "stdout",
     "output_type": "stream",
     "text": [
      "Found 80 images belonging to 2 classes.\n"
     ]
    }
   ],
   "source": [
    "# 创建图片生成器\n",
    "from tensorflow.keras.preprocessing.image import ImageDataGenerator\n",
    "\n",
    "train_datagen = ImageDataGenerator(rescale = 1 / 255)\n",
    "\n",
    "train_generator = train_datagen.flow_from_directory(\n",
    "    './tmp/h-or-s',\n",
    "    target_size = (150,150),\n",
    "    batch_size = 10,\n",
    "    class_mode = 'binary'\n",
    ")"
   ]
  },
  {
   "cell_type": "code",
   "execution_count": 8,
   "metadata": {},
   "outputs": [
    {
     "name": "stdout",
     "output_type": "stream",
     "text": [
      "WARNING:tensorflow:sample_weight modes were coerced from\n",
      "  ...\n",
      "    to  \n",
      "  ['...']\n",
      "Train for 8 steps\n",
      "Epoch 1/15\n",
      "8/8 [==============================] - 2s 296ms/step - loss: 1.8502 - accuracy: 0.5000\n",
      "Epoch 2/15\n",
      "8/8 [==============================] - 2s 234ms/step - loss: 0.5909 - accuracy: 0.6750\n",
      "Epoch 3/15\n",
      "8/8 [==============================] - 2s 222ms/step - loss: 0.2519 - accuracy: 0.8875\n",
      "Epoch 4/15\n",
      "8/8 [==============================] - 2s 224ms/step - loss: 0.1959 - accuracy: 0.9125\n",
      "Epoch 5/15\n",
      "8/8 [==============================] - 2s 224ms/step - loss: 0.1543 - accuracy: 0.9250\n",
      "Epoch 6/15\n",
      "8/8 [==============================] - 2s 235ms/step - loss: 0.0793 - accuracy: 0.9750\n",
      "Epoch 7/15\n",
      "8/8 [==============================] - 2s 222ms/step - loss: 0.0462 - accuracy: 0.9875\n",
      "Epoch 8/15\n",
      "8/8 [==============================] - 2s 223ms/step - loss: 0.1324 - accuracy: 0.9375\n",
      "Epoch 9/15\n",
      "7/8 [=========================>....] - ETA: 0s - loss: 0.0235 - accuracy: 1.0000训练精度已经达到99.9%\n",
      "8/8 [==============================] - 2s 225ms/step - loss: 0.0208 - accuracy: 1.0000\n"
     ]
    }
   ],
   "source": [
    "# 训练模型\n",
    "history = model.fit(\n",
    "    train_generator,\n",
    "    steps_per_epoch=8,\n",
    "    epochs = 15,\n",
    "    verbose = 1,\n",
    "    callbacks = [callbacks]\n",
    ")"
   ]
  },
  {
   "cell_type": "code",
   "execution_count": null,
   "metadata": {},
   "outputs": [],
   "source": []
  }
 ],
 "metadata": {
  "kernelspec": {
   "display_name": "Python 3",
   "language": "python",
   "name": "python3"
  },
  "language_info": {
   "codemirror_mode": {
    "name": "ipython",
    "version": 3
   },
   "file_extension": ".py",
   "mimetype": "text/x-python",
   "name": "python",
   "nbconvert_exporter": "python",
   "pygments_lexer": "ipython3",
   "version": "3.6.10"
  }
 },
 "nbformat": 4,
 "nbformat_minor": 4
}
