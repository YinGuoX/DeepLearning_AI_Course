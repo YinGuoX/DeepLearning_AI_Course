{
 "cells": [
  {
   "cell_type": "markdown",
   "metadata": {},
   "source": [
    "# 练习2：手写识别\n",
    "主要参考于[DeepLearning.ai课程](https://github.com/lmoroney/dlaicourse/blob/master/Exercises/Exercise%202%20-%20Handwriting%20Recognition/Exercise2-Question.ipynb)"
   ]
  },
  {
   "cell_type": "markdown",
   "metadata": {},
   "source": [
    "## 1. Question\n",
    "在本课程中，您学习了如何使用Fashion MNIST进行分类，它是一个包含服装条目的数据集。还有另一个类似的数据集MNIST，它有一些手写的数字——从0到9。\n",
    "\n",
    "写一个MNIST分类器，训练到99%或更高的准确率，并且不需要固定的次数来完成——也就是说，一旦你达到了这个精确度，你就应该停止训练。\n",
    "\n",
    "**提示：**\n",
    "\n",
    "* 它应该在10个epoch内成功，所以可以将epoch改为10个，但不能再大了\n",
    "* 当它达到99%或更大的时候，它应该打印出字符串”达到99%的精度，可以取消了训练\n",
    "* 如果添加任何其他变量，请确保使用与类中使用的名称相同的名称"
   ]
  },
  {
   "cell_type": "markdown",
   "metadata": {},
   "source": [
    "## 2. Answer"
   ]
  },
  {
   "cell_type": "code",
   "execution_count": 4,
   "metadata": {},
   "outputs": [
    {
     "name": "stdout",
     "output_type": "stream",
     "text": [
      "Train on 60000 samples\n",
      "Epoch 1/10\n",
      "60000/60000 [==============================] - 9s 147us/sample - loss: 0.2008 - accuracy: 0.9416\n",
      "Epoch 2/10\n",
      "60000/60000 [==============================] - 8s 129us/sample - loss: 0.0790 - accuracy: 0.9760\n",
      "Epoch 3/10\n",
      "60000/60000 [==============================] - 8s 131us/sample - loss: 0.0530 - accuracy: 0.9829\n",
      "Epoch 4/10\n",
      "60000/60000 [==============================] - 8s 131us/sample - loss: 0.0373 - accuracy: 0.9879\n",
      "Epoch 5/10\n",
      "59776/60000 [============================>.] - ETA: 0s - loss: 0.0271 - accuracy: 0.9907已经训练到达99%的精度！！！\n",
      "60000/60000 [==============================] - 8s 131us/sample - loss: 0.0272 - accuracy: 0.9907\n"
     ]
    },
    {
     "data": {
      "text/plain": [
       "array([[6.3869035e-09, 1.7778669e-09, 2.8343877e-07, ..., 9.9999464e-01,\n",
       "        7.2070516e-11, 9.6492862e-08],\n",
       "       [6.4655947e-10, 2.6131916e-06, 9.9999738e-01, ..., 4.4728690e-13,\n",
       "        1.9423478e-08, 5.1937223e-15],\n",
       "       [1.2936650e-08, 9.9986160e-01, 1.1097103e-06, ..., 7.4938100e-05,\n",
       "        3.5275923e-05, 6.3375052e-09],\n",
       "       ...,\n",
       "       [1.0067776e-17, 1.9167927e-12, 5.4351838e-16, ..., 1.8044561e-08,\n",
       "        5.5574243e-09, 1.3257771e-07],\n",
       "       [1.0281112e-11, 7.2549269e-13, 8.6347481e-14, ..., 1.2709046e-11,\n",
       "        3.9583397e-06, 1.0745446e-12],\n",
       "       [1.8461177e-11, 6.2068501e-14, 3.0414196e-10, ..., 2.1176080e-13,\n",
       "        1.5586263e-09, 1.4627068e-12]], dtype=float32)"
      ]
     },
     "execution_count": 4,
     "metadata": {},
     "output_type": "execute_result"
    }
   ],
   "source": [
    "import tensorflow as tf\n",
    "\n",
    "class myCallback(tf.keras.callbacks.Callback):\n",
    "    def on_epoch_end(self,epoch,logs={}):\n",
    "        if(logs.get('accuracy')>0.99):\n",
    "            print(\"已经训练到达99%的精度！！！\")\n",
    "            self.model.stop_training = True\n",
    "\n",
    "# 获得数据集\n",
    "mnist = tf.keras.datasets.mnist\n",
    "\n",
    "(x_train,y_train),(x_test,y_test) = mnist.load_data()\n",
    "\n",
    "# 数据预处理\n",
    "x_train,x_test = x_train /255.0, x_test/255.0\n",
    "\n",
    "callbacks = myCallback()\n",
    "\n",
    "# 构建模型\n",
    "model = tf.keras.models.Sequential([\n",
    "    tf.keras.layers.Flatten(input_shape=(28,28)),\n",
    "    tf.keras.layers.Dense(512,activation = tf.nn.relu),\n",
    "    tf.keras.layers.Dense(10,activation = tf.nn.softmax)\n",
    "])\n",
    "\n",
    "# 编译模型\n",
    "model.compile(optimizer='adam',\n",
    "             loss='sparse_categorical_crossentropy',\n",
    "             metrics = ['accuracy'])\n",
    "\n",
    "# 训练模型\n",
    "model.fit(x_train,y_train,epochs=10,callbacks = [callbacks])\n",
    "\n",
    "model.predict(x_test)\n"
   ]
  },
  {
   "cell_type": "code",
   "execution_count": null,
   "metadata": {},
   "outputs": [],
   "source": []
  }
 ],
 "metadata": {
  "kernelspec": {
   "display_name": "Python 3",
   "language": "python",
   "name": "python3"
  },
  "language_info": {
   "codemirror_mode": {
    "name": "ipython",
    "version": 3
   },
   "file_extension": ".py",
   "mimetype": "text/x-python",
   "name": "python",
   "nbconvert_exporter": "python",
   "pygments_lexer": "ipython3",
   "version": "3.6.10"
  }
 },
 "nbformat": 4,
 "nbformat_minor": 4
}
