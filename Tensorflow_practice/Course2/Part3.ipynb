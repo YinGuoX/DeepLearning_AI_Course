{
 "cells": [
  {
   "cell_type": "markdown",
   "metadata": {},
   "source": [
    "# 改进人马识别卷积神经网络(图片扩增)\n",
    "主要参考于[DeepLearning.ai课程](https://github.com/lmoroney/dlaicourse)\n",
    "\n",
    "在Course1中的Part5部分，我们已经实现了关于区分人马的卷积神经网络，在本节中，我们使用图片增强的方式来改进该CNN使其具有更好的性能。"
   ]
  },
  {
   "cell_type": "markdown",
   "metadata": {},
   "source": [
    "## 1. 数据准备"
   ]
  },
  {
   "cell_type": "code",
   "execution_count": 4,
   "metadata": {},
   "outputs": [
    {
     "name": "stdout",
     "output_type": "stream",
     "text": [
      "tmp/horse-or-human/horses\n"
     ]
    }
   ],
   "source": [
    "import os\n",
    "import zipfile\n",
    "\n",
    "# 解压训练集\n",
    "local_zip = 'tmp/horse-or-human.zip'\n",
    "zip_ref = zipfile.ZipFile(local_zip,'r')\n",
    "zip_ref.extractall('tmp/horse-or-human')\n",
    "\n",
    "# 解压验证集\n",
    "local_zip = 'tmp/validation-horse-or-human.zip'\n",
    "zip_ref = zipfile.ZipFile(local_zip, 'r')\n",
    "zip_ref.extractall('tmp/validation-horse-or-human')\n",
    "zip_ref.close()\n",
    "\n",
    "train_horse_dir = os.path.join('tmp/horse-or-human/horses')\n",
    "\n",
    "train_human_dir = os.path.join('tmp/horse-or-human/humans')\n",
    "\n",
    "validation_horse_dir = os.path.join('tmp/validation-horse-or-human/horses')\n",
    "validation_human_dir = os.path.join('tmp/validation-horse-or-human/humans')\n",
    "\n",
    "print(train_horse_dir)"
   ]
  },
  {
   "cell_type": "markdown",
   "metadata": {},
   "source": [
    "## 2. 构建模型"
   ]
  },
  {
   "cell_type": "code",
   "execution_count": 6,
   "metadata": {},
   "outputs": [],
   "source": [
    "import tensorflow as tf\n",
    "\n",
    "# 构建\n",
    "model = tf.keras.models.Sequential([\n",
    "    \n",
    "    tf.keras.layers.Conv2D(16,(3,3),activation='relu',input_shape=(300,300,3)),\n",
    "    tf.keras.layers.MaxPooling2D(2,2),\n",
    "    \n",
    "    tf.keras.layers.Conv2D(32,(3,3),activation='relu'),\n",
    "    tf.keras.layers.MaxPooling2D(2,2),\n",
    "    \n",
    "    tf.keras.layers.Conv2D(64,(3,3),activation='relu'),\n",
    "    tf.keras.layers.MaxPooling2D(2,2),\n",
    "    \n",
    "    tf.keras.layers.Conv2D(64,(3,3),activation='relu'),\n",
    "    tf.keras.layers.MaxPooling2D(2,2),\n",
    "    \n",
    "    tf.keras.layers.Conv2D(64,(3,3),activation='relu'),\n",
    "    tf.keras.layers.MaxPooling2D(2,2),\n",
    "    \n",
    "    tf.keras.layers.Flatten(),\n",
    "    tf.keras.layers.Dense(512,activation='relu'),\n",
    "    tf.keras.layers.Dense(1,activation='sigmoid')\n",
    "])"
   ]
  },
  {
   "cell_type": "code",
   "execution_count": 8,
   "metadata": {},
   "outputs": [],
   "source": [
    "# 编译模型\n",
    "from tensorflow.keras.optimizers import RMSprop\n",
    "\n",
    "model.compile(loss='binary_crossentropy',\n",
    "             optimizer=RMSprop(lr=1e-4),\n",
    "             metrics = ['accuracy'])"
   ]
  },
  {
   "cell_type": "markdown",
   "metadata": {},
   "source": [
    "## 3. 数据预处理"
   ]
  },
  {
   "cell_type": "code",
   "execution_count": 24,
   "metadata": {},
   "outputs": [
    {
     "name": "stdout",
     "output_type": "stream",
     "text": [
      "Found 1027 images belonging to 2 classes.\n",
      "Found 256 images belonging to 2 classes.\n"
     ]
    }
   ],
   "source": [
    "from tensorflow.keras.preprocessing.image import ImageDataGenerator\n",
    "\n",
    "train_datagen = ImageDataGenerator(\n",
    "    rescale = 1./255.,\n",
    "    rotation_range = 40,\n",
    "    width_shift_range = 0.2,\n",
    "    height_shift_range = 0.2,\n",
    "    shear_range = 0.2,\n",
    "    zoom_range = 0.2,\n",
    "    horizontal_flip = True,\n",
    "    fill_mode = 'nearest'\n",
    ")\n",
    "validation_datagen = ImageDataGenerator(\n",
    "rescale = 1./255.\n",
    ")\n",
    "\n",
    "train_generator = train_datagen.flow_from_directory(\n",
    "    'tmp/horse-or-human/', \n",
    "    target_size =(300,300),\n",
    "    batch_size = 128,\n",
    "    class_mode='binary'\n",
    ")\n",
    "\n",
    "validation_generator = validation_datagen.flow_from_directory(\n",
    "    'tmp/validation-horse-or-human/',\n",
    "    target_size =(300,300),\n",
    "    batch_size = 128,\n",
    "    class_mode='binary'\n",
    ")"
   ]
  },
  {
   "cell_type": "markdown",
   "metadata": {},
   "source": [
    "## 4. 训练模型"
   ]
  },
  {
   "cell_type": "code",
   "execution_count": 25,
   "metadata": {},
   "outputs": [
    {
     "name": "stdout",
     "output_type": "stream",
     "text": [
      "WARNING:tensorflow:sample_weight modes were coerced from\n",
      "  ...\n",
      "    to  \n",
      "  ['...']\n",
      "WARNING:tensorflow:sample_weight modes were coerced from\n",
      "  ...\n",
      "    to  \n",
      "  ['...']\n",
      "Train for 8 steps, validate for 2 steps\n",
      "Epoch 1/30\n",
      "8/8 - 85s - loss: 0.4000 - accuracy: 0.8131 - val_loss: 0.9537 - val_accuracy: 0.5781\n",
      "Epoch 2/30\n",
      "8/8 - 84s - loss: 0.3981 - accuracy: 0.7909 - val_loss: 1.3201 - val_accuracy: 0.5469\n",
      "Epoch 3/30\n",
      "8/8 - 85s - loss: 0.3612 - accuracy: 0.8343 - val_loss: 1.4526 - val_accuracy: 0.5508\n",
      "Epoch 4/30\n",
      "8/8 - 85s - loss: 0.4207 - accuracy: 0.7920 - val_loss: 1.4593 - val_accuracy: 0.5625\n",
      "Epoch 5/30\n",
      "8/8 - 85s - loss: 0.3165 - accuracy: 0.8554 - val_loss: 1.6441 - val_accuracy: 0.5547\n",
      "Epoch 6/30\n",
      "8/8 - 86s - loss: 0.3267 - accuracy: 0.8621 - val_loss: 1.7156 - val_accuracy: 0.5586\n",
      "Epoch 7/30\n",
      "8/8 - 85s - loss: 0.4054 - accuracy: 0.8142 - val_loss: 1.4940 - val_accuracy: 0.5742\n",
      "Epoch 8/30\n",
      "8/8 - 85s - loss: 0.3128 - accuracy: 0.8721 - val_loss: 1.8058 - val_accuracy: 0.5625\n",
      "Epoch 9/30\n",
      "8/8 - 84s - loss: 0.3235 - accuracy: 0.8343 - val_loss: 2.0837 - val_accuracy: 0.5352\n",
      "Epoch 10/30\n",
      "8/8 - 84s - loss: 0.3279 - accuracy: 0.8409 - val_loss: 1.4534 - val_accuracy: 0.5898\n",
      "Epoch 11/30\n",
      "8/8 - 94s - loss: 0.3428 - accuracy: 0.8604 - val_loss: 1.4913 - val_accuracy: 0.5859\n",
      "Epoch 12/30\n",
      "8/8 - 84s - loss: 0.2785 - accuracy: 0.8743 - val_loss: 1.0427 - val_accuracy: 0.6797\n",
      "Epoch 13/30\n",
      "8/8 - 85s - loss: 0.3680 - accuracy: 0.8209 - val_loss: 1.6169 - val_accuracy: 0.5586\n",
      "Epoch 14/30\n",
      "8/8 - 84s - loss: 0.3122 - accuracy: 0.8654 - val_loss: 1.8331 - val_accuracy: 0.5469\n",
      "Epoch 15/30\n",
      "8/8 - 84s - loss: 0.2995 - accuracy: 0.8565 - val_loss: 2.1057 - val_accuracy: 0.5469\n",
      "Epoch 16/30\n",
      "8/8 - 93s - loss: 0.3223 - accuracy: 0.8525 - val_loss: 2.7119 - val_accuracy: 0.5078\n",
      "Epoch 17/30\n",
      "8/8 - 85s - loss: 0.3450 - accuracy: 0.8420 - val_loss: 1.7482 - val_accuracy: 0.5625\n",
      "Epoch 18/30\n",
      "8/8 - 85s - loss: 0.2557 - accuracy: 0.8821 - val_loss: 1.2923 - val_accuracy: 0.6367\n",
      "Epoch 19/30\n",
      "8/8 - 84s - loss: 0.3656 - accuracy: 0.8487 - val_loss: 1.7498 - val_accuracy: 0.5664\n",
      "Epoch 20/30\n",
      "8/8 - 85s - loss: 0.2435 - accuracy: 0.8943 - val_loss: 2.9501 - val_accuracy: 0.5039\n",
      "Epoch 21/30\n",
      "8/8 - 85s - loss: 0.2697 - accuracy: 0.8821 - val_loss: 2.1977 - val_accuracy: 0.5625\n",
      "Epoch 22/30\n",
      "8/8 - 84s - loss: 0.2450 - accuracy: 0.8910 - val_loss: 2.0220 - val_accuracy: 0.5664\n",
      "Epoch 23/30\n",
      "8/8 - 93s - loss: 0.2774 - accuracy: 0.8760 - val_loss: 2.0863 - val_accuracy: 0.5547\n",
      "Epoch 24/30\n",
      "8/8 - 85s - loss: 0.2663 - accuracy: 0.8721 - val_loss: 2.4564 - val_accuracy: 0.5234\n",
      "Epoch 25/30\n",
      "8/8 - 85s - loss: 0.2973 - accuracy: 0.8687 - val_loss: 2.2973 - val_accuracy: 0.5234\n",
      "Epoch 26/30\n",
      "8/8 - 84s - loss: 0.2606 - accuracy: 0.8865 - val_loss: 1.8971 - val_accuracy: 0.5664\n",
      "Epoch 27/30\n",
      "8/8 - 85s - loss: 0.2456 - accuracy: 0.8721 - val_loss: 1.7557 - val_accuracy: 0.5977\n",
      "Epoch 28/30\n",
      "8/8 - 84s - loss: 0.2260 - accuracy: 0.8854 - val_loss: 3.6915 - val_accuracy: 0.5000\n",
      "Epoch 29/30\n",
      "8/8 - 84s - loss: 0.2867 - accuracy: 0.8743 - val_loss: 2.1809 - val_accuracy: 0.5508\n",
      "Epoch 30/30\n",
      "8/8 - 84s - loss: 0.2169 - accuracy: 0.8999 - val_loss: 2.7386 - val_accuracy: 0.5352\n"
     ]
    }
   ],
   "source": [
    "batch_size = 128\n",
    "history = model.fit(\n",
    "        train_generator,\n",
    "        steps_per_epoch=int(1027/batch_size),\n",
    "        epochs = 30,\n",
    "        verbose = 2,\n",
    "        validation_data = validation_generator,\n",
    "        validation_steps=int(256/batch_size)\n",
    ")"
   ]
  },
  {
   "cell_type": "markdown",
   "metadata": {},
   "source": [
    "## 5. 可视化精确度和损失\n"
   ]
  },
  {
   "cell_type": "code",
   "execution_count": 26,
   "metadata": {},
   "outputs": [
    {
     "data": {
      "image/png": "[encoded data removed]",
      "text/plain": [
       "<Figure size 432x288 with 1 Axes>"
      ]
     },
     "metadata": {
      "needs_background": "light"
     },
     "output_type": "display_data"
    },
    {
     "data": {
      "image/png": "[encoded data removed]",
      "text/plain": [
       "<Figure size 432x288 with 1 Axes>"
      ]
     },
     "metadata": {
      "needs_background": "light"
     },
     "output_type": "display_data"
    }
   ],
   "source": [
    "import matplotlib.pyplot as plt\n",
    "\n",
    "acc = history.history['accuracy']\n",
    "val_acc = history.history['val_accuracy']\n",
    "loss = history.history['loss']\n",
    "val_loss = history.history['val_loss']\n",
    "\n",
    "epochs = range(len(acc))\n",
    "\n",
    "plt.plot(epochs,acc,'r',label='Training accuracy')\n",
    "plt.plot(epochs,val_acc,'b',label='Validation accuracy')\n",
    "plt.title('Training and Validation accuracy')\n",
    "plt.legend()\n",
    "\n",
    "plt.figure()\n",
    "plt.plot(epochs, loss, 'r', label='Training Loss')\n",
    "plt.plot(epochs, val_loss, 'b', label='Validation Loss')\n",
    "plt.title('Training and validation loss')\n",
    "plt.legend()\n",
    "\n",
    "plt.show()"
   ]
  },
  {
   "cell_type": "code",
   "execution_count": null,
   "metadata": {},
   "outputs": [],
   "source": []
  }
 ],
 "metadata": {
  "kernelspec": {
   "display_name": "Python 3",
   "language": "python",
   "name": "python3"
  },
  "language_info": {
   "codemirror_mode": {
    "name": "ipython",
    "version": 3
   },
   "file_extension": ".py",
   "mimetype": "text/x-python",
   "name": "python",
   "nbconvert_exporter": "python",
   "pygments_lexer": "ipython3",
   "version": "3.6.10"
  }
 },
 "nbformat": 4,
 "nbformat_minor": 4
}
