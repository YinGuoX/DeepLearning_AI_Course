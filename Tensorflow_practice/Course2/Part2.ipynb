{
 "cells": [
  {
   "cell_type": "markdown",
   "metadata": {},
   "source": [
    "# 在卷积神经网络中使用更多的图片(图片扩增)\n",
    "主要参考于[DeepLearning.ai课程](https://github.com/lmoroney/dlaicourse)\n",
    "\n",
    "接下来我们构建一个更高效的学习模型去识别猫和狗。\n",
    "\n",
    "它与您使用的先前模型相似，但是更新了图层定义。 请注意，现在有4个卷积层，分别具有32、64、128和128个卷积。\n",
    "\n",
    "同时，这将训练100个epoch，因为想绘制损失和准确性的曲线图。"
   ]
  },
  {
   "cell_type": "code",
   "execution_count": 6,
   "metadata": {},
   "outputs": [
    {
     "name": "stdout",
     "output_type": "stream",
     "text": [
      "Found 2000 images belonging to 2 classes.\n",
      "Found 1000 images belonging to 2 classes.\n",
      "WARNING:tensorflow:sample_weight modes were coerced from\n",
      "  ...\n",
      "    to  \n",
      "  ['...']\n",
      "WARNING:tensorflow:sample_weight modes were coerced from\n",
      "  ...\n",
      "    to  \n",
      "  ['...']\n",
      "Train for 100 steps, validate for 50 steps\n",
      "Epoch 1/10\n",
      "100/100 - 96s - loss: 0.6875 - accuracy: 0.5440 - val_loss: 0.6628 - val_accuracy: 0.6240\n",
      "Epoch 2/10\n",
      "100/100 - 87s - loss: 0.6555 - accuracy: 0.6010 - val_loss: 0.6328 - val_accuracy: 0.6700\n",
      "Epoch 3/10\n",
      "100/100 - 88s - loss: 0.6121 - accuracy: 0.6710 - val_loss: 0.5951 - val_accuracy: 0.6930\n",
      "Epoch 4/10\n",
      "100/100 - 93s - loss: 0.5703 - accuracy: 0.6950 - val_loss: 0.5859 - val_accuracy: 0.6840\n",
      "Epoch 5/10\n",
      "100/100 - 91s - loss: 0.5408 - accuracy: 0.7250 - val_loss: 0.5868 - val_accuracy: 0.7030\n",
      "Epoch 6/10\n",
      "100/100 - 89s - loss: 0.5193 - accuracy: 0.7430 - val_loss: 0.5682 - val_accuracy: 0.7010\n",
      "Epoch 7/10\n",
      "100/100 - 93s - loss: 0.4954 - accuracy: 0.7540 - val_loss: 0.6233 - val_accuracy: 0.6830\n",
      "Epoch 8/10\n",
      "100/100 - 100s - loss: 0.4743 - accuracy: 0.7670 - val_loss: 0.5731 - val_accuracy: 0.7010\n",
      "Epoch 9/10\n",
      "100/100 - 105s - loss: 0.4445 - accuracy: 0.7955 - val_loss: 0.6106 - val_accuracy: 0.6880\n",
      "Epoch 10/10\n",
      "100/100 - 95s - loss: 0.4193 - accuracy: 0.8065 - val_loss: 0.6754 - val_accuracy: 0.6640\n"
     ]
    }
   ],
   "source": [
    "import os\n",
    "import zipfile\n",
    "import tensorflow as tf\n",
    "from tensorflow.keras.optimizers import RMSprop\n",
    "from tensorflow.keras.preprocessing.image import ImageDataGenerator\n",
    "\n",
    "# 获取数据的路径\n",
    "local_zip = 'tmp/cats_and_dogs_filtered.zip'\n",
    "zip_ref = zipfile.ZipFile(local_zip,'r')\n",
    "zip_ref.extractall('tmp')\n",
    "zip_ref.close()\n",
    "\n",
    "base_dir = 'tmp/cats_and_dogs_filtered'\n",
    "train_dir = os.path.join(base_dir,'train')\n",
    "validation_dir = os.path.join(base_dir,'validation')\n",
    "\n",
    "train_cats_dir = os.path.join(train_dir,'cats')\n",
    "train_dogs_dir = os.path.join(train_dir,'dogs')\n",
    "validation_cats_dir = os.path.join(validation_dir,'cats')\n",
    "validation_dogs_dir = os.path.join(validation_dir,'dogs')\n",
    "\n",
    "# 构建模型\n",
    "model = tf.keras.models.Sequential([\n",
    "    tf.keras.layers.Conv2D(32,(3,3),activation='relu',input_shape=(150,150,3)),\n",
    "    tf.keras.layers.MaxPooling2D(2,2),\n",
    "    \n",
    "    tf.keras.layers.Conv2D(64,(3,3),activation='relu'),\n",
    "    tf.keras.layers.MaxPooling2D(2,2),\n",
    "    \n",
    "    tf.keras.layers.Conv2D(128,(3,3),activation='relu'),\n",
    "    tf.keras.layers.MaxPooling2D(2,2),\n",
    "    \n",
    "    tf.keras.layers.Conv2D(128,(3,3),activation='relu'),\n",
    "    tf.keras.layers.MaxPooling2D(2,2),\n",
    "    \n",
    "    tf.keras.layers.Flatten(),\n",
    "    tf.keras.layers.Dense(512,activation='relu'),\n",
    "    tf.keras.layers.Dense(1,activation='sigmoid')\n",
    "])\n",
    "\n",
    "# 编译模型\n",
    "model.compile(loss='binary_crossentropy',\n",
    "             optimizer = RMSprop(lr=1e-4),\n",
    "             metrics=['accuracy'])\n",
    "\n",
    "# 预处理数据,并且创建图片生成器\n",
    "train_datagen = ImageDataGenerator(rescale = 1./255.)\n",
    "test_datagen = ImageDataGenerator(rescale = 1./255.)\n",
    "\n",
    "train_generator = train_datagen.flow_from_directory(\n",
    "        train_dir,\n",
    "        target_size = (150,150),\n",
    "        batch_size = 20,\n",
    "        class_mode = 'binary'\n",
    ")\n",
    "\n",
    "validation_generator = test_datagen.flow_from_directory(\n",
    "        validation_dir,\n",
    "        target_size = (150,150),\n",
    "        batch_size = 20,\n",
    "        class_mode = 'binary'\n",
    ")\n",
    "\n",
    "# 训练模型\n",
    "history = model.fit(\n",
    "        train_generator,\n",
    "        steps_per_epoch = 100,\n",
    "        epochs = 10,\n",
    "        validation_data = validation_generator,\n",
    "        validation_steps = 50,\n",
    "        verbose = 2\n",
    ")"
   ]
  },
  {
   "cell_type": "code",
   "execution_count": 7,
   "metadata": {},
   "outputs": [
    {
     "data": {
      "image/png": "[encoded data removed]",
      "text/plain": [
       "<Figure size 432x288 with 1 Axes>"
      ]
     },
     "metadata": {
      "needs_background": "light"
     },
     "output_type": "display_data"
    },
    {
     "data": {
      "image/png": "[encoded data removed]",
      "text/plain": [
       "<Figure size 432x288 with 1 Axes>"
      ]
     },
     "metadata": {
      "needs_background": "light"
     },
     "output_type": "display_data"
    }
   ],
   "source": [
    "# 绘制对应的损失和精确度\n",
    "import matplotlib.pyplot as plt\n",
    "\n",
    "acc = history.history['accuracy']\n",
    "val_acc = history.history['val_accuracy']\n",
    "loss = history.history['loss']\n",
    "val_loss = history.history['val_loss']\n",
    "\n",
    "epochs = range(len(acc))\n",
    "\n",
    "plt.plot(epochs,acc,'bo',label='Training accuracy')\n",
    "plt.plot(epochs,val_acc,'b',label='Validation accuracy')\n",
    "plt.title('Training and Validation accuracy')\n",
    "plt.legend()\n",
    "plt.figure()\n",
    "\n",
    "plt.plot(epochs,loss,'bo',label = 'Training Loss')\n",
    "plt.plot(epochs,val_loss,'b',label = 'Validation Loss')\n",
    "plt.title(\"Training and Validation loss\")\n",
    "\n",
    "plt.legend()\n",
    "plt.show()"
   ]
  },
  {
   "cell_type": "markdown",
   "metadata": {},
   "source": [
    "训练准确度接近100％，验证准确度在70％-80％范围内。 这是过度拟合的一个很好的例子-简而言之，这意味着它可以很好地处理以前看到的图像，但不能很好地处理过以前没有看到的图像。 让我们看看是否可以做得更好，**避免过度拟合:**一种简单的方法是稍微扩大图像。 如果您考虑一下，大多数猫的照片都非常相似-耳朵在顶部，然后是眼睛，然后是嘴等。诸如眼睛和耳朵之间的距离之类的东西也总是非常相似。\n",
    "\n",
    "**Question：**如果我们对图像进行调整以稍微改变它，该怎么办？\n",
    "\n",
    "**Answer：**旋转图像，挤压图像等。这就是图像扩增的全部内容。 可以使用一个容易的API实现。\n",
    "\n",
    "现在看一下ImageGenerator。它上面有一些属性，你可以用它们来增强图像：\n"
   ]
  },
  {
   "cell_type": "raw",
   "metadata": {},
   "source": [
    "# Updated to do image augmentation\n",
    "train_datagen = ImageDataGenerator(\n",
    "      rotation_range=40,\n",
    "      width_shift_range=0.2,\n",
    "      height_shift_range=0.2,\n",
    "      shear_range=0.2,\n",
    "      zoom_range=0.2,\n",
    "      horizontal_flip=True,\n",
    "      fill_mode='nearest')"
   ]
  },
  {
   "cell_type": "markdown",
   "metadata": {},
   "source": [
    "**代码讲解：**这些只是可用的选项中的一部分(更多信息，请参阅Keras文档)。让我们快速回顾一下刚刚写的内容\n",
    "\n",
    "* rotation_range：一个以角度(0 180)为单位的值，在这个范围内可以随机旋转图片。\n",
    "* width_shift and height_shift：作为总宽度或高度的一部分，在其中可以随机地垂直或水平地转换图片。\n",
    "* shear_range：用于随机应用剪切变换。\n",
    "* zoom_range：用于图片内部随机缩放。\n",
    "* horizontal_flip：用于随机水平翻转一半的图像。\n",
    "* fill_mode：于填充新创建的像素的策略，该像素可以在旋转或宽度/高度偏移后出现。\n",
    "\n",
    "下面是我们添加图像增强的一些代码。运行它看看影响"
   ]
  },
  {
   "cell_type": "code",
   "execution_count": 10,
   "metadata": {},
   "outputs": [
    {
     "name": "stdout",
     "output_type": "stream",
     "text": [
      "Found 2000 images belonging to 2 classes.\n",
      "Found 1000 images belonging to 2 classes.\n",
      "WARNING:tensorflow:sample_weight modes were coerced from\n",
      "  ...\n",
      "    to  \n",
      "  ['...']\n",
      "WARNING:tensorflow:sample_weight modes were coerced from\n",
      "  ...\n",
      "    to  \n",
      "  ['...']\n",
      "Train for 100 steps, validate for 50 steps\n",
      "Epoch 1/10\n",
      "100/100 - 96s - loss: 0.6946 - accuracy: 0.5140 - val_loss: 0.6888 - val_accuracy: 0.5000\n",
      "Epoch 2/10\n",
      "100/100 - 95s - loss: 0.6883 - accuracy: 0.5555 - val_loss: 0.6646 - val_accuracy: 0.6190\n",
      "Epoch 3/10\n",
      "100/100 - 95s - loss: 0.6763 - accuracy: 0.5895 - val_loss: 0.7035 - val_accuracy: 0.5080\n",
      "Epoch 4/10\n",
      "100/100 - 94s - loss: 0.6669 - accuracy: 0.5905 - val_loss: 0.6593 - val_accuracy: 0.5910\n",
      "Epoch 5/10\n",
      "100/100 - 94s - loss: 0.6526 - accuracy: 0.6155 - val_loss: 0.6218 - val_accuracy: 0.6450\n",
      "Epoch 6/10\n",
      "100/100 - 96s - loss: 0.6399 - accuracy: 0.6360 - val_loss: 0.5988 - val_accuracy: 0.6820\n",
      "Epoch 7/10\n",
      "100/100 - 121s - loss: 0.6231 - accuracy: 0.6535 - val_loss: 0.6116 - val_accuracy: 0.6370\n",
      "Epoch 8/10\n",
      "100/100 - 153s - loss: 0.6164 - accuracy: 0.6605 - val_loss: 0.5575 - val_accuracy: 0.7110\n",
      "Epoch 9/10\n",
      "100/100 - 89s - loss: 0.5968 - accuracy: 0.6785 - val_loss: 0.5689 - val_accuracy: 0.6980\n",
      "Epoch 10/10\n",
      "100/100 - 92s - loss: 0.5983 - accuracy: 0.6685 - val_loss: 0.5479 - val_accuracy: 0.7140\n"
     ]
    }
   ],
   "source": [
    "import os\n",
    "import zipfile\n",
    "import tensorflow as tf\n",
    "from tensorflow.keras.optimizers import RMSprop\n",
    "from tensorflow.keras.preprocessing.image import ImageDataGenerator\n",
    "\n",
    "# 获取数据的路径\n",
    "local_zip = 'tmp/cats_and_dogs_filtered.zip'\n",
    "zip_ref = zipfile.ZipFile(local_zip,'r')\n",
    "zip_ref.extractall('tmp')\n",
    "zip_ref.close()\n",
    "\n",
    "base_dir = 'tmp/cats_and_dogs_filtered'\n",
    "train_dir = os.path.join(base_dir,'train')\n",
    "validation_dir = os.path.join(base_dir,'validation')\n",
    "\n",
    "train_cats_dir = os.path.join(train_dir,'cats')\n",
    "train_dogs_dir = os.path.join(train_dir,'dogs')\n",
    "validation_cats_dir = os.path.join(validation_dir,'cats')\n",
    "validation_dogs_dir = os.path.join(validation_dir,'dogs')\n",
    "\n",
    "# 构建模型\n",
    "model = tf.keras.models.Sequential([\n",
    "    tf.keras.layers.Conv2D(32,(3,3),activation='relu',input_shape=(150,150,3)),\n",
    "    tf.keras.layers.MaxPooling2D(2,2),\n",
    "    \n",
    "    tf.keras.layers.Conv2D(64,(3,3),activation='relu'),\n",
    "    tf.keras.layers.MaxPooling2D(2,2),\n",
    "    \n",
    "    tf.keras.layers.Conv2D(128,(3,3),activation='relu'),\n",
    "    tf.keras.layers.MaxPooling2D(2,2),\n",
    "    \n",
    "    tf.keras.layers.Conv2D(128,(3,3),activation='relu'),\n",
    "    tf.keras.layers.MaxPooling2D(2,2),\n",
    "    \n",
    "    tf.keras.layers.Flatten(),\n",
    "    tf.keras.layers.Dense(512,activation='relu'),\n",
    "    tf.keras.layers.Dense(1,activation='sigmoid')\n",
    "])\n",
    "\n",
    "# 编译模型\n",
    "model.compile(loss='binary_crossentropy',\n",
    "             optimizer = RMSprop(lr=1e-4),\n",
    "             metrics=['accuracy'])\n",
    "\n",
    "# 预处理数据,并且创建图片生成器，实现#图像扩增\n",
    "train_datagen = ImageDataGenerator(\n",
    "                            rescale = 1./255.,\n",
    "                            rotation_range = 40,\n",
    "                            width_shift_range=0.2,\n",
    "                            height_shift_range=0.2,\n",
    "                            shear_range = 0.2,\n",
    "                            zoom_range = 0.2,\n",
    "                            horizontal_flip = True,\n",
    "                            fill_mode='nearest'\n",
    "                            )\n",
    "\n",
    "# 验证集数据不使用图像扩增\n",
    "test_datagen = ImageDataGenerator(\n",
    "                            rescale = 1./255.)\n",
    "\n",
    "\n",
    "train_generator = train_datagen.flow_from_directory(\n",
    "        train_dir,\n",
    "        target_size = (150,150),\n",
    "        batch_size = 20,\n",
    "        class_mode = 'binary'\n",
    ")\n",
    "\n",
    "validation_generator = test_datagen.flow_from_directory(\n",
    "        validation_dir,\n",
    "        target_size = (150,150),\n",
    "        batch_size = 20,\n",
    "        class_mode = 'binary'\n",
    ")\n",
    "\n",
    "# 训练模型\n",
    "history = model.fit(\n",
    "        train_generator,\n",
    "        steps_per_epoch = 100,\n",
    "        epochs = 10,\n",
    "        validation_data = validation_generator,\n",
    "        validation_steps = 50,\n",
    "        verbose = 2\n",
    ")"
   ]
  },
  {
   "cell_type": "code",
   "execution_count": 12,
   "metadata": {},
   "outputs": [
    {
     "data": {
      "image/png": "[encoded data removed]",
      "text/plain": [
       "<Figure size 432x288 with 1 Axes>"
      ]
     },
     "metadata": {
      "needs_background": "light"
     },
     "output_type": "display_data"
    },
    {
     "data": {
      "image/png": "[encoded data removed]",
      "text/plain": [
       "<Figure size 432x288 with 1 Axes>"
      ]
     },
     "metadata": {
      "needs_background": "light"
     },
     "output_type": "display_data"
    }
   ],
   "source": [
    "# 绘制对应的损失和精确度\n",
    "import matplotlib.pyplot as plt\n",
    "\n",
    "acc = history.history['accuracy']\n",
    "val_acc = history.history['val_accuracy']\n",
    "loss = history.history['loss']\n",
    "val_loss = history.history['val_loss']\n",
    "\n",
    "epochs = range(len(acc))\n",
    "\n",
    "plt.plot(epochs,acc,'bo',label='Training accuracy')\n",
    "plt.plot(epochs,val_acc,'b',label='Validation accuracy')\n",
    "plt.title('Training and Validation accuracy')\n",
    "plt.legend()\n",
    "plt.figure()\n",
    "\n",
    "plt.plot(epochs,loss,'bo',label = 'Training Loss')\n",
    "plt.plot(epochs,val_loss,'b',label = 'Validation Loss')\n",
    "plt.title(\"Training and Validation loss\")\n",
    "\n",
    "plt.legend()\n",
    "plt.show()"
   ]
  },
  {
   "cell_type": "code",
   "execution_count": null,
   "metadata": {},
   "outputs": [],
   "source": []
  }
 ],
 "metadata": {
  "kernelspec": {
   "display_name": "Python 3",
   "language": "python",
   "name": "python3"
  },
  "language_info": {
   "codemirror_mode": {
    "name": "ipython",
    "version": 3
   },
   "file_extension": ".py",
   "mimetype": "text/x-python",
   "name": "python",
   "nbconvert_exporter": "python",
   "pygments_lexer": "ipython3",
   "version": "3.6.10"
  }
 },
 "nbformat": 4,
 "nbformat_minor": 4
}
