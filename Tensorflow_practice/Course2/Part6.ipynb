{
 "cells": [
  {
   "cell_type": "markdown",
   "metadata": {},
   "source": [
    "# 改进人马识别卷积神经网络(Dropout正则化)\n",
    "主要参考于[DeepLearning.ai课程](https://github.com/lmoroney/dlaicourse/blob/master/Horse-or-Human-WithDropouts.ipynb)\n",
    "\n",
    "在Course2中的Part3部分，我们已经实现对区分人马的卷积神经网络进行数据上的扩增的改进，在本节中，我们使用Dropout的方式来改进该CNN,防止其过拟合，使该卷积神经网络具有更好的性能。"
   ]
  },
  {
   "cell_type": "markdown",
   "metadata": {},
   "source": [
    "## 1. 数据准备"
   ]
  },
  {
   "cell_type": "code",
   "execution_count": 6,
   "metadata": {},
   "outputs": [
    {
     "name": "stdout",
     "output_type": "stream",
     "text": [
      "./tmp/horse-or-human/humans\n",
      "./tmp/validation-horse-or-human/humans\n"
     ]
    }
   ],
   "source": [
    "import os\n",
    "import zipfile\n",
    "\n",
    "# 解压训练集数据\n",
    "local_zip = './tmp/horse-or-human.zip'\n",
    "zip_ref = zipfile.ZipFile(local_zip,'r')\n",
    "zip_ref.extractall('./tmp/horse-or-human')\n",
    "\n",
    "# 解压测试集数据\n",
    "local_zip = './tmp/validation-horse-or-human.zip'\n",
    "zip_ref = zipfile.ZipFile(local_zip,'r')\n",
    "zip_ref.extractall('./tmp/validation-horse-or-human')\n",
    "zip_ref.close()\n",
    "\n",
    "# 获得训练集的数据的路径\n",
    "train_horse_dir = os.path.join('./tmp/horse-or-human/horses')\n",
    "\n",
    "train_human_dir = os.path.join('./tmp/horse-or-human/humans')\n",
    "\n",
    "validation_horse_dir = os.path.join('./tmp/validation-horse-or-human/horses')\n",
    "\n",
    "validation_human_dir = os.path.join('./tmp/validation-horse-or-human/humans')\n",
    "\n",
    "print(train_human_dir)\n",
    "\n",
    "print(validation_human_dir)"
   ]
  },
  {
   "cell_type": "markdown",
   "metadata": {},
   "source": [
    "## 2. 从头构建一个小模型"
   ]
  },
  {
   "cell_type": "code",
   "execution_count": 9,
   "metadata": {},
   "outputs": [],
   "source": [
    "import tensorflow as tf\n",
    "\n",
    "# 构建模型\n",
    "model = tf.keras.models.Sequential([\n",
    "    # 注意输入图像的维度大小、第一层采用卷积层\n",
    "    tf.keras.layers.Conv2D(16,(3,3),activation='relu',input_shape = (300,300,3)),\n",
    "    tf.keras.layers.MaxPooling2D(2,2),\n",
    "    \n",
    "    # 第二层卷积层\n",
    "    tf.keras.layers.Conv2D(32,(3,3),activation='relu'),\n",
    "    # 使用Dropout正则化\n",
    "    tf.keras.layers.Dropout(0.5),\n",
    "    tf.keras.layers.MaxPooling2D(2,2),\n",
    "    \n",
    "    # 第三层卷积层\n",
    "    tf.keras.layers.Conv2D(64,(3,3),activation='relu'),\n",
    "    # 使用Dropout正则化\n",
    "    tf.keras.layers.Dropout(0.5),\n",
    "    tf.keras.layers.MaxPooling2D(2,2),\n",
    "    \n",
    "    # 第四层卷积层\n",
    "    tf.keras.layers.Conv2D(64,(3,3),activation='relu'),\n",
    "    tf.keras.layers.MaxPooling2D(2,2),\n",
    "    \n",
    "    # 第五层卷积层\n",
    "    tf.keras.layers.Conv2D(64,(3,3),activation='relu'),\n",
    "    tf.keras.layers.MaxPooling2D(2,2),\n",
    "    \n",
    "    # 将数据展平喂给标准神经网络\n",
    "    tf.keras.layers.Flatten(),\n",
    "    # 使用Dropout正则化\n",
    "    tf.keras.layers.Dropout(0.5),\n",
    "    tf.keras.layers.Dense(512,activation='relu'),\n",
    "    \n",
    "    tf.keras.layers.Dense(1,activation='sigmoid')\n",
    "    \n",
    "])"
   ]
  },
  {
   "cell_type": "code",
   "execution_count": 10,
   "metadata": {},
   "outputs": [],
   "source": [
    "# 编译模型\n",
    "from tensorflow.keras.optimizers import RMSprop\n",
    "\n",
    "model.compile(loss='binary_crossentropy',\n",
    "             optimizer = RMSprop(lr=1e-4),\n",
    "             metrics=['accuracy'])"
   ]
  },
  {
   "cell_type": "markdown",
   "metadata": {},
   "source": [
    "## 3. 使用数据扩增的数据生成器"
   ]
  },
  {
   "cell_type": "code",
   "execution_count": 13,
   "metadata": {},
   "outputs": [
    {
     "name": "stdout",
     "output_type": "stream",
     "text": [
      "Found 1027 images belonging to 2 classes.\n",
      "Found 256 images belonging to 2 classes.\n"
     ]
    }
   ],
   "source": [
    "from tensorflow.keras.preprocessing.image import ImageDataGenerator\n",
    "\n",
    "train_datagen = ImageDataGenerator(\n",
    "    rescale = 1./255,\n",
    "    rotation_range=40,\n",
    "    height_shift_range = 0.2,\n",
    "    width_shift_range = 0.2,\n",
    "    shear_range = 0.2,\n",
    "    zoom_range = 0.2,\n",
    "    horizontal_flip = True,\n",
    "    fill_mode = 'nearest'\n",
    ")\n",
    "\n",
    "validation_datagen = ImageDataGenerator(rescale = 1/255)\n",
    "\n",
    "train_generator = train_datagen.flow_from_directory(\n",
    "    './tmp/horse-or-human/',\n",
    "    target_size=(300,300),\n",
    "    batch_size = 128,\n",
    "    class_mode = 'binary'\n",
    ")\n",
    "\n",
    "validation_generator = validation_datagen.flow_from_directory(\n",
    "    './tmp/validation-horse-or-human/',\n",
    "    target_size = (300,300),\n",
    "    batch_size = 32,\n",
    "    class_mode = 'binary'\n",
    ")"
   ]
  },
  {
   "cell_type": "markdown",
   "metadata": {},
   "source": [
    "## 4. 训练模型并且分析精确率\n"
   ]
  },
  {
   "cell_type": "code",
   "execution_count": 16,
   "metadata": {},
   "outputs": [
    {
     "name": "stdout",
     "output_type": "stream",
     "text": [
      "WARNING:tensorflow:sample_weight modes were coerced from\n",
      "  ...\n",
      "    to  \n",
      "  ['...']\n",
      "WARNING:tensorflow:sample_weight modes were coerced from\n",
      "  ...\n",
      "    to  \n",
      "  ['...']\n",
      "Train for 8 steps, validate for 8 steps\n",
      "Epoch 1/10\n",
      "8/8 [==============================] - 99s 12s/step - loss: 0.5974 - accuracy: 0.6963 - val_loss: 0.6635 - val_accuracy: 0.5039\n",
      "Epoch 2/10\n",
      "8/8 [==============================] - 99s 12s/step - loss: 0.6071 - accuracy: 0.6830 - val_loss: 0.6557 - val_accuracy: 0.5078\n",
      "Epoch 3/10\n",
      "8/8 [==============================] - 101s 13s/step - loss: 0.6068 - accuracy: 0.7141 - val_loss: 0.6714 - val_accuracy: 0.5000\n",
      "Epoch 4/10\n",
      "8/8 [==============================] - 98s 12s/step - loss: 0.5507 - accuracy: 0.7386 - val_loss: 0.6609 - val_accuracy: 0.5078\n",
      "Epoch 5/10\n",
      "8/8 [==============================] - 98s 12s/step - loss: 0.6576 - accuracy: 0.7041 - val_loss: 0.6723 - val_accuracy: 0.5000\n",
      "Epoch 6/10\n",
      "8/8 [==============================] - 99s 12s/step - loss: 0.5288 - accuracy: 0.7186 - val_loss: 0.6516 - val_accuracy: 0.5078\n",
      "Epoch 7/10\n",
      "8/8 [==============================] - 98s 12s/step - loss: 0.5126 - accuracy: 0.7542 - val_loss: 0.6618 - val_accuracy: 0.5078\n",
      "Epoch 8/10\n",
      "8/8 [==============================] - 99s 12s/step - loss: 0.5841 - accuracy: 0.7264 - val_loss: 0.6549 - val_accuracy: 0.5156\n",
      "Epoch 9/10\n",
      "8/8 [==============================] - 99s 12s/step - loss: 0.5137 - accuracy: 0.7308 - val_loss: 0.6433 - val_accuracy: 0.5156\n",
      "Epoch 10/10\n",
      "8/8 [==============================] - 99s 12s/step - loss: 0.5063 - accuracy: 0.7341 - val_loss: 0.6449 - val_accuracy: 0.5156\n"
     ]
    }
   ],
   "source": [
    "history = model.fit(\n",
    "    train_generator,\n",
    "    steps_per_epoch=8,\n",
    "    epochs = 10,\n",
    "    verbose = 1,\n",
    "    validation_data = validation_generator,\n",
    "    validation_steps = 8\n",
    ")"
   ]
  },
  {
   "cell_type": "code",
   "execution_count": 19,
   "metadata": {},
   "outputs": [
    {
     "data": {
      "image/png": "[encoded data removed]",
      "text/plain": [
       "<Figure size 432x288 with 1 Axes>"
      ]
     },
     "metadata": {
      "needs_background": "light"
     },
     "output_type": "display_data"
    },
    {
     "data": {
      "image/png": "[encoded data removed]",
      "text/plain": [
       "<Figure size 432x288 with 1 Axes>"
      ]
     },
     "metadata": {
      "needs_background": "light"
     },
     "output_type": "display_data"
    }
   ],
   "source": [
    "import matplotlib.pyplot as plt\n",
    "\n",
    "acc = history.history['accuracy']\n",
    "val_acc = history.history['val_accuracy']\n",
    "\n",
    "loss = history.history['loss']\n",
    "val_loss = history.history['val_loss']\n",
    "\n",
    "epochs = range(len(acc))\n",
    "\n",
    "plt.plot(epochs,acc,'bo',label='Training accuracy')\n",
    "plt.plot(epochs,val_acc,'b',label = 'Validation accuracy')\n",
    "plt.title(\"Training and Validation accuracy\")\n",
    "plt.legend()\n",
    "plt.figure()\n",
    "\n",
    "plt.plot(epochs,loss,'bo',label='Training loss')\n",
    "plt.plot(epochs,val_loss,'b',label='Validation loss')\n",
    "plt.title(\"Training and Validation loss\")\n",
    "\n",
    "plt.legend()\n",
    "\n",
    "plt.show()"
   ]
  },
  {
   "cell_type": "code",
   "execution_count": null,
   "metadata": {},
   "outputs": [],
   "source": []
  }
 ],
 "metadata": {
  "kernelspec": {
   "display_name": "Python 3",
   "language": "python",
   "name": "python3"
  },
  "language_info": {
   "codemirror_mode": {
    "name": "ipython",
    "version": 3
   },
   "file_extension": ".py",
   "mimetype": "text/x-python",
   "name": "python",
   "nbconvert_exporter": "python",
   "pygments_lexer": "ipython3",
   "version": "3.6.10"
  }
 },
 "nbformat": 4,
 "nbformat_minor": 4
}
